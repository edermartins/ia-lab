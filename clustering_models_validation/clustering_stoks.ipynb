{
 "cells": [
  {
   "cell_type": "markdown",
   "metadata": {
    "id": "lvvoGuN16YOO"
   },
   "source": [
    "# Clustering Models Validation\n",
    "\n",
    "Origem do dataset: [Kaggle: https://www.kaggle.com/datasets/umerhaddii/big-tech-giants-stock-price-data](https://www.kaggle.com/datasets/umerhaddii/big-tech-giants-stock-price-data)\n"
   ]
  },
  {
   "cell_type": "markdown",
   "metadata": {},
   "source": [
    "## Para executar no Google Colab"
   ]
  },
  {
   "cell_type": "code",
   "execution_count": null,
   "metadata": {},
   "outputs": [],
   "source": [
    "# Só precisa ser executado se este notebook for executado no Google Colab\n",
    "!pip install scikit-learn-extra"
   ]
  },
  {
   "cell_type": "markdown",
   "metadata": {},
   "source": [
    "## Import das bibliotecas"
   ]
  },
  {
   "cell_type": "code",
   "execution_count": 7,
   "metadata": {},
   "outputs": [],
   "source": [
    "import pandas as pd\n",
    "from sklearn.preprocessing import StandardScaler\n",
    "from sklearn.cluster import KMeans, DBSCAN\n",
    "from sklearn.metrics import silhouette_score, davies_bouldin_score, calinski_harabasz_score\n",
    "import matplotlib.pyplot as plt"
   ]
  },
  {
   "cell_type": "markdown",
   "metadata": {},
   "source": [
    "# Infraestrutura\n",
    "\n",
    "Para as questões a seguir, você deverá executar códigos em um notebook Jupyter, rodando em ambiente local, certifique-se que:\n",
    "\n",
    "1. Você está rodando em Python 3.9+\n",
    "2. Você está usando um ambiente virtual: Virtualenv ou Anaconda\n",
    "3. Todas as bibliotecas usadas nesse exercícios estão instaladas em um ambiente virtual específico\n",
    "4. Gere um arquivo de requerimentos (requirements.txt) com os pacotes necessários. É necessário se certificar que a versão do pacote está disponibilizada.\n",
    "5. Tire um printscreen do ambiente que será usado rodando em sua máquina.\n",
    "6. Disponibilize os códigos gerados, assim como os artefatos acessórios (requirements.txt) e instruções em um repositório GIT público. (se isso não for feito, o diretório com esses arquivos deverá ser enviado compactado no moodle).\n",
    "\n",
    "**Dica**: Gere um relatório rico em gráficos que dêem respaldo aos resultados"
   ]
  },
  {
   "cell_type": "markdown",
   "metadata": {},
   "source": [
    "# Escolha de base de dados\n",
    "Para as questões a seguir, usaremos uma base de dados e faremos a análise exploratória dos dados, antes da clusterização.\n",
    "\n",
    "1. Escolha uma base de dados para realizar o trabalho. Essa base será usada em um problema de clusterização.\n",
    "2. Escreva a justificativa para a escolha de dados, dando sua motivação e objetivos.\n",
    "3. Mostre através de gráficos a faixa dinâmica das variáveis que serão usadas nas tarefas de clusterização. Analise os resultados mostrados. O que deve ser feito com os dados antes da etapa de clusterização?\n",
    "4. Realize o pré-processamento adequado dos dados. Descreva os passos necessários."
   ]
  },
  {
   "cell_type": "code",
   "execution_count": 9,
   "metadata": {},
   "outputs": [],
   "source": [
    "# Carregar os dados\n",
    "\n",
    "# Verifica se existe o arquivo local\n",
    "url = './data/big_tech_stock_prices.csv'\n",
    "if not os.path.isfile(url):\n",
    "  # Caso contrário vai buscar no mwu github publico\n",
    "  url = 'https://raw.githubusercontent.com/edermartins/ia-lab/refs/heads/main/clustering/data/Country-data.csv'"
   ]
  },
  {
   "cell_type": "code",
   "execution_count": 26,
   "metadata": {},
   "outputs": [],
   "source": [
    "# Carregando os dados\n",
    "df = pd.read_csv(url)\n",
    "# Selecionando as colunas relevantes para o agrupamento\n",
    "X = df[['open', 'high', 'low', 'close', 'adj_close', 'volume']]\n",
    "# Filtrando somente as ações do Google para critério de comparação com o todo\n",
    "stock_google = df[df['stock_symbol'] == 'GOOGL']\n",
    "X_google = stock_google[['open', 'high', 'low', 'close', 'adj_close', 'volume']]"
   ]
  },
  {
   "cell_type": "code",
   "execution_count": 11,
   "metadata": {},
   "outputs": [],
   "source": [
    "# Normalização dos dados para a clusterização\n",
    "scaler = StandardScaler()\n",
    "X_scaled = scaler.fit_transform(X)"
   ]
  },
  {
   "cell_type": "markdown",
   "metadata": {},
   "source": [
    "## Analisando os dados\n",
    "\n",
    "### Visualizando algumas informações do Dataset"
   ]
  },
  {
   "cell_type": "code",
   "execution_count": 12,
   "metadata": {},
   "outputs": [
    {
     "data": {
      "text/plain": [
       "stock_symbol    0\n",
       "date            0\n",
       "open            0\n",
       "high            0\n",
       "low             0\n",
       "close           0\n",
       "adj_close       0\n",
       "volume          0\n",
       "dtype: int64"
      ]
     },
     "execution_count": 12,
     "metadata": {},
     "output_type": "execute_result"
    }
   ],
   "source": [
    "# Verificando campos nulos\n",
    "df.isna().sum()"
   ]
  },
  {
   "cell_type": "code",
   "execution_count": 13,
   "metadata": {},
   "outputs": [
    {
     "data": {
      "text/html": [
       "<div>\n",
       "<style scoped>\n",
       "    .dataframe tbody tr th:only-of-type {\n",
       "        vertical-align: middle;\n",
       "    }\n",
       "\n",
       "    .dataframe tbody tr th {\n",
       "        vertical-align: top;\n",
       "    }\n",
       "\n",
       "    .dataframe thead th {\n",
       "        text-align: right;\n",
       "    }\n",
       "</style>\n",
       "<table border=\"1\" class=\"dataframe\">\n",
       "  <thead>\n",
       "    <tr style=\"text-align: right;\">\n",
       "      <th></th>\n",
       "      <th>stock_symbol</th>\n",
       "      <th>date</th>\n",
       "      <th>open</th>\n",
       "      <th>high</th>\n",
       "      <th>low</th>\n",
       "      <th>close</th>\n",
       "      <th>adj_close</th>\n",
       "      <th>volume</th>\n",
       "    </tr>\n",
       "  </thead>\n",
       "  <tbody>\n",
       "    <tr>\n",
       "      <th>0</th>\n",
       "      <td>AAPL</td>\n",
       "      <td>2010-01-04</td>\n",
       "      <td>7.622500</td>\n",
       "      <td>7.660714</td>\n",
       "      <td>7.585000</td>\n",
       "      <td>7.643214</td>\n",
       "      <td>6.515213</td>\n",
       "      <td>493729600</td>\n",
       "    </tr>\n",
       "    <tr>\n",
       "      <th>1</th>\n",
       "      <td>AAPL</td>\n",
       "      <td>2010-01-05</td>\n",
       "      <td>7.664286</td>\n",
       "      <td>7.699643</td>\n",
       "      <td>7.616071</td>\n",
       "      <td>7.656429</td>\n",
       "      <td>6.526476</td>\n",
       "      <td>601904800</td>\n",
       "    </tr>\n",
       "    <tr>\n",
       "      <th>2</th>\n",
       "      <td>AAPL</td>\n",
       "      <td>2010-01-06</td>\n",
       "      <td>7.656429</td>\n",
       "      <td>7.686786</td>\n",
       "      <td>7.526786</td>\n",
       "      <td>7.534643</td>\n",
       "      <td>6.422664</td>\n",
       "      <td>552160000</td>\n",
       "    </tr>\n",
       "    <tr>\n",
       "      <th>3</th>\n",
       "      <td>AAPL</td>\n",
       "      <td>2010-01-07</td>\n",
       "      <td>7.562500</td>\n",
       "      <td>7.571429</td>\n",
       "      <td>7.466071</td>\n",
       "      <td>7.520714</td>\n",
       "      <td>6.410790</td>\n",
       "      <td>477131200</td>\n",
       "    </tr>\n",
       "    <tr>\n",
       "      <th>4</th>\n",
       "      <td>AAPL</td>\n",
       "      <td>2010-01-08</td>\n",
       "      <td>7.510714</td>\n",
       "      <td>7.571429</td>\n",
       "      <td>7.466429</td>\n",
       "      <td>7.570714</td>\n",
       "      <td>6.453412</td>\n",
       "      <td>447610800</td>\n",
       "    </tr>\n",
       "  </tbody>\n",
       "</table>\n",
       "</div>"
      ],
      "text/plain": [
       "  stock_symbol        date      open      high       low     close  adj_close  \\\n",
       "0         AAPL  2010-01-04  7.622500  7.660714  7.585000  7.643214   6.515213   \n",
       "1         AAPL  2010-01-05  7.664286  7.699643  7.616071  7.656429   6.526476   \n",
       "2         AAPL  2010-01-06  7.656429  7.686786  7.526786  7.534643   6.422664   \n",
       "3         AAPL  2010-01-07  7.562500  7.571429  7.466071  7.520714   6.410790   \n",
       "4         AAPL  2010-01-08  7.510714  7.571429  7.466429  7.570714   6.453412   \n",
       "\n",
       "      volume  \n",
       "0  493729600  \n",
       "1  601904800  \n",
       "2  552160000  \n",
       "3  477131200  \n",
       "4  447610800  "
      ]
     },
     "execution_count": 13,
     "metadata": {},
     "output_type": "execute_result"
    }
   ],
   "source": [
    "# Mostra as primeiras linhas do dataset original\n",
    "df.head()"
   ]
  },
  {
   "cell_type": "code",
   "execution_count": 14,
   "metadata": {},
   "outputs": [
    {
     "data": {
      "text/plain": [
       "(45088, 8)"
      ]
     },
     "execution_count": 14,
     "metadata": {},
     "output_type": "execute_result"
    }
   ],
   "source": [
    "# Tamanho do dataset\n",
    "df.shape"
   ]
  },
  {
   "cell_type": "code",
   "execution_count": 16,
   "metadata": {},
   "outputs": [
    {
     "data": {
      "text/plain": [
       "array([[-0.80337928, -0.80300162, -0.80427771, -0.80349104, -0.7791924 ,\n",
       "         4.7267468 ],\n",
       "       [-0.8029681 , -0.80262367, -0.80396738, -0.80336096, -0.77908088,\n",
       "         5.88684907],\n",
       "       [-0.80304541, -0.8027485 , -0.80485913, -0.80455973, -0.78010878,\n",
       "         5.35337138],\n",
       "       ...,\n",
       "       [ 0.27781733,  0.28446789,  0.20622647,  0.19518006,  0.23655036,\n",
       "         1.66939957],\n",
       "       [ 0.20746118,  0.25145815,  0.20103283,  0.23071444,  0.27229476,\n",
       "         1.8026714 ],\n",
       "       [ 0.30625497,  0.32233201,  0.29351883,  0.32038705,  0.3624974 ,\n",
       "         1.81181708]])"
      ]
     },
     "execution_count": 16,
     "metadata": {},
     "output_type": "execute_result"
    }
   ],
   "source": [
    "# Exibindo o dataset normalizado\n",
    "X_scaled"
   ]
  },
  {
   "cell_type": "code",
   "execution_count": 17,
   "metadata": {},
   "outputs": [
    {
     "name": "stdout",
     "output_type": "stream",
     "text": [
      "Total de empresas com ações: 14\n"
     ]
    }
   ],
   "source": [
    "# Quantidade de séries no dataset\n",
    "num_stocks = df['stock_symbol'].nunique()\n",
    "print(f\"Total de empresas com ações: {num_stocks}\")"
   ]
  },
  {
   "cell_type": "code",
   "execution_count": 18,
   "metadata": {},
   "outputs": [
    {
     "data": {
      "text/html": [
       "<div>\n",
       "<style scoped>\n",
       "    .dataframe tbody tr th:only-of-type {\n",
       "        vertical-align: middle;\n",
       "    }\n",
       "\n",
       "    .dataframe tbody tr th {\n",
       "        vertical-align: top;\n",
       "    }\n",
       "\n",
       "    .dataframe thead th {\n",
       "        text-align: right;\n",
       "    }\n",
       "</style>\n",
       "<table border=\"1\" class=\"dataframe\">\n",
       "  <thead>\n",
       "    <tr style=\"text-align: right;\">\n",
       "      <th></th>\n",
       "      <th>open</th>\n",
       "      <th>high</th>\n",
       "      <th>low</th>\n",
       "      <th>close</th>\n",
       "      <th>adj_close</th>\n",
       "      <th>volume</th>\n",
       "    </tr>\n",
       "  </thead>\n",
       "  <tbody>\n",
       "    <tr>\n",
       "      <th>count</th>\n",
       "      <td>45088.000000</td>\n",
       "      <td>45088.000000</td>\n",
       "      <td>45088.000000</td>\n",
       "      <td>45088.000000</td>\n",
       "      <td>45088.000000</td>\n",
       "      <td>4.508800e+04</td>\n",
       "    </tr>\n",
       "    <tr>\n",
       "      <th>mean</th>\n",
       "      <td>89.266584</td>\n",
       "      <td>90.369825</td>\n",
       "      <td>88.111930</td>\n",
       "      <td>89.271306</td>\n",
       "      <td>85.209631</td>\n",
       "      <td>5.297813e+07</td>\n",
       "    </tr>\n",
       "    <tr>\n",
       "      <th>std</th>\n",
       "      <td>101.626955</td>\n",
       "      <td>103.001073</td>\n",
       "      <td>100.124399</td>\n",
       "      <td>101.592916</td>\n",
       "      <td>100.995967</td>\n",
       "      <td>9.324730e+07</td>\n",
       "    </tr>\n",
       "    <tr>\n",
       "      <th>min</th>\n",
       "      <td>1.076000</td>\n",
       "      <td>1.108667</td>\n",
       "      <td>0.998667</td>\n",
       "      <td>1.053333</td>\n",
       "      <td>1.053333</td>\n",
       "      <td>5.892000e+05</td>\n",
       "    </tr>\n",
       "    <tr>\n",
       "      <th>25%</th>\n",
       "      <td>25.670000</td>\n",
       "      <td>25.930135</td>\n",
       "      <td>25.360001</td>\n",
       "      <td>25.660000</td>\n",
       "      <td>22.076433</td>\n",
       "      <td>9.629425e+06</td>\n",
       "    </tr>\n",
       "    <tr>\n",
       "      <th>50%</th>\n",
       "      <td>47.930000</td>\n",
       "      <td>48.459999</td>\n",
       "      <td>47.465000</td>\n",
       "      <td>47.970001</td>\n",
       "      <td>45.377333</td>\n",
       "      <td>2.646315e+07</td>\n",
       "    </tr>\n",
       "    <tr>\n",
       "      <th>75%</th>\n",
       "      <td>128.662502</td>\n",
       "      <td>129.848900</td>\n",
       "      <td>127.253945</td>\n",
       "      <td>128.640609</td>\n",
       "      <td>113.672460</td>\n",
       "      <td>5.839768e+07</td>\n",
       "    </tr>\n",
       "    <tr>\n",
       "      <th>max</th>\n",
       "      <td>696.280029</td>\n",
       "      <td>700.989990</td>\n",
       "      <td>686.090027</td>\n",
       "      <td>691.690002</td>\n",
       "      <td>691.690002</td>\n",
       "      <td>1.880998e+09</td>\n",
       "    </tr>\n",
       "  </tbody>\n",
       "</table>\n",
       "</div>"
      ],
      "text/plain": [
       "               open          high           low         close     adj_close  \\\n",
       "count  45088.000000  45088.000000  45088.000000  45088.000000  45088.000000   \n",
       "mean      89.266584     90.369825     88.111930     89.271306     85.209631   \n",
       "std      101.626955    103.001073    100.124399    101.592916    100.995967   \n",
       "min        1.076000      1.108667      0.998667      1.053333      1.053333   \n",
       "25%       25.670000     25.930135     25.360001     25.660000     22.076433   \n",
       "50%       47.930000     48.459999     47.465000     47.970001     45.377333   \n",
       "75%      128.662502    129.848900    127.253945    128.640609    113.672460   \n",
       "max      696.280029    700.989990    686.090027    691.690002    691.690002   \n",
       "\n",
       "             volume  \n",
       "count  4.508800e+04  \n",
       "mean   5.297813e+07  \n",
       "std    9.324730e+07  \n",
       "min    5.892000e+05  \n",
       "25%    9.629425e+06  \n",
       "50%    2.646315e+07  \n",
       "75%    5.839768e+07  \n",
       "max    1.880998e+09  "
      ]
     },
     "execution_count": 18,
     "metadata": {},
     "output_type": "execute_result"
    }
   ],
   "source": [
    "# Mostrar estatísticas descritivas para entender a faixa dinâmica das variáveis\n",
    "df.describe()"
   ]
  },
  {
   "cell_type": "code",
   "execution_count": 21,
   "metadata": {},
   "outputs": [
    {
     "name": "stdout",
     "output_type": "stream",
     "text": [
      "Quantidade de campos duplicados: 0\n",
      "<class 'pandas.core.frame.DataFrame'>\n",
      "RangeIndex: 45088 entries, 0 to 45087\n",
      "Data columns (total 8 columns):\n",
      " #   Column        Non-Null Count  Dtype  \n",
      "---  ------        --------------  -----  \n",
      " 0   stock_symbol  45088 non-null  object \n",
      " 1   date          45088 non-null  object \n",
      " 2   open          45088 non-null  float64\n",
      " 3   high          45088 non-null  float64\n",
      " 4   low           45088 non-null  float64\n",
      " 5   close         45088 non-null  float64\n",
      " 6   adj_close     45088 non-null  float64\n",
      " 7   volume        45088 non-null  int64  \n",
      "dtypes: float64(5), int64(1), object(2)\n",
      "memory usage: 2.8+ MB\n"
     ]
    }
   ],
   "source": [
    "# Verificando campos duplicados e analisando a estrutura do dataset\n",
    "print(\"Quantidade de campos duplicados:\", df.duplicated().sum())\n",
    "df.info()"
   ]
  },
  {
   "cell_type": "markdown",
   "metadata": {},
   "source": [
    "### Análise Exploratória"
   ]
  },
  {
   "cell_type": "markdown",
   "metadata": {},
   "source": [
    "#### Variáveis de Interesse"
   ]
  },
  {
   "cell_type": "code",
   "execution_count": 20,
   "metadata": {},
   "outputs": [
    {
     "data": {
      "image/png": "[encoded data removed]",
      "text/plain": [
       "<Figure size 1500x1000 with 6 Axes>"
      ]
     },
     "metadata": {},
     "output_type": "display_data"
    }
   ],
   "source": [
    "# Visualizando as variáveis de interesse\n",
    "X.hist(bins=15, figsize=(15, 10))\n",
    "plt.show()"
   ]
  },
  {
   "cell_type": "code",
   "execution_count": 28,
   "metadata": {},
   "outputs": [
    {
     "data": {
      "image/png": "[encoded data removed]",
      "text/plain": [
       "<Figure size 1500x1000 with 6 Axes>"
      ]
     },
     "metadata": {},
     "output_type": "display_data"
    }
   ],
   "source": [
    "# Visualizando as variáveis do Google para comparar com o todo (o gráfico acima)\n",
    "X_google.hist(bins=15, figsize=(15, 10))\n",
    "plt.show()"
   ]
  },
  {
   "cell_type": "markdown",
   "metadata": {},
   "source": [
    "# Clusterização\n",
    "\n",
    "Para os dados pré-processados da etapa anterior você irá:\n",
    "\n",
    "1. Realizar o agrupamento dos dados, escolhendo o número ótimo de clusters. Para tal, use o índice de silhueta e as técnicas:\n",
    "   * K-Médias\n",
    "   * DBScan\n",
    "2. Com os resultados em mão, descreva o processo de mensuração do índice de silhueta. Mostre o gráfico e justifique o número de clusters escolhidos.\n",
    "3. Compare os dois resultados, aponte as semelhanças e diferenças e interprete.\n",
    "4. Escolha mais duas medidas de validação para comparar com o índice de silhueta e analise os resultados encontrados. Observe, para a escolha, medidas adequadas aos algoritmos.\n",
    "5. Realizando a análise, responda: A silhueta é um o índice indicado para escolher o número de clusters para o algoritmo de DBScan?"
   ]
  },
  {
   "cell_type": "markdown",
   "metadata": {},
   "source": [
    "## K-Médias\n",
    "\n",
    "Com o gráfico do índice de silhueta, podemos identificar o número de clusters que maximiza a pontuação, sendo este o valor ótimo.\n",
    "\n",
    "O K-Means requer a especificação do número de clusters, por isso vamos usar o índice de silhueta para encontrar o número ótimo de clusters:"
   ]
  },
  {
   "cell_type": "code",
   "execution_count": 29,
   "metadata": {},
   "outputs": [
    {
     "data": {
      "image/png": "[encoded data removed]",
      "text/plain": [
       "<Figure size 1000x600 with 1 Axes>"
      ]
     },
     "metadata": {},
     "output_type": "display_data"
    }
   ],
   "source": [
    "silhouette_scores = []\n",
    "range_n_clusters = range(2, 11)\n",
    "\n",
    "for n_clusters in range_n_clusters:\n",
    "    kmeans = KMeans(n_clusters=n_clusters, random_state=42)\n",
    "    cluster_labels = kmeans.fit_predict(X_scaled)\n",
    "    silhouette_avg = silhouette_score(X_scaled, cluster_labels)\n",
    "    silhouette_scores.append(silhouette_avg)\n",
    "\n",
    "# Plotar o índice de silhueta para cada número de clusters\n",
    "plt.figure(figsize=(10, 6))\n",
    "plt.plot(range_n_clusters, silhouette_scores, marker='o')\n",
    "plt.xlabel('Número de Clusters')\n",
    "plt.ylabel('Índice de Silhueta')\n",
    "plt.title('Escolha do Número Ótimo de Clusters usando Índice de Silhueta - K-Means')\n",
    "plt.show()\n"
   ]
  },
  {
   "cell_type": "markdown",
   "metadata": {},
   "source": [
    "## DBScan\n",
    "\n",
    "O DBSCAN é um algoritmo baseado em densidade, portanto não necessita do número de clusters como parâmetro. Em vez disso, ele utiliza eps (raio de vizinhança) e min_samples (número mínimo de pontos em uma vizinhança). Vamos ajustar esses parâmetros e calcular o índice de silhueta:"
   ]
  },
  {
   "cell_type": "code",
   "execution_count": 36,
   "metadata": {},
   "outputs": [
    {
     "name": "stdout",
     "output_type": "stream",
     "text": [
      "Índice de Silhueta para DBSCAN: 0.1417298902666347\n"
     ]
    }
   ],
   "source": [
    "X_scaled = scaler.fit_transform(X)\n",
    "dbscan = DBSCAN(eps=0.2, min_samples=5)\n",
    "dbscan_labels = dbscan.fit_predict(X_scaled)\n",
    "\n",
    "# Filtrar clusters válidos\n",
    "valid_labels = dbscan_labels != -1  # -1 são pontos considerados como ruído\n",
    "silhouette_avg_dbscan = silhouette_score(X_scaled[valid_labels], dbscan_labels[valid_labels])\n",
    "\n",
    "print(f\"Índice de Silhueta para DBSCAN: {silhouette_avg_dbscan}\")"
   ]
  },
  {
   "cell_type": "markdown",
   "metadata": {},
   "source": [
    "## Outras Medidas de Validação\n",
    "Vamos agora utilizar outras duas medidas de validação para comparar os algoritmos: Davies-Bouldin Score e Calinski-Harabasz Score."
   ]
  },
  {
   "cell_type": "markdown",
   "metadata": {},
   "source": [
    "### Davies-Bouldin Score"
   ]
  },
  {
   "cell_type": "code",
   "execution_count": null,
   "metadata": {},
   "outputs": [],
   "source": [
    "davies_bouldin_kmeans = davies_bouldin_score(X_scaled, kmeans.labels_)\n",
    "print(f\"Davies-Bouldin Score para K-Means: {davies_bouldin_kmeans}\")\n",
    "\n",
    "davies_bouldin_dbscan = davies_bouldin_score(X_scaled[valid_labels], dbscan_labels[valid_labels])\n",
    "print(f\"Davies-Bouldin Score para DBSCAN: {davies_bouldin_dbscan}\")"
   ]
  },
  {
   "cell_type": "markdown",
   "metadata": {},
   "source": [
    "O Davies-Bouldin Score é uma métrica de similaridade onde valores menores indicam melhor separação entre clusters."
   ]
  },
  {
   "cell_type": "markdown",
   "metadata": {},
   "source": [
    "### Calinski-Harabasz Score"
   ]
  },
  {
   "cell_type": "code",
   "execution_count": null,
   "metadata": {},
   "outputs": [],
   "source": [
    "calinski_harabasz_kmeans = calinski_harabasz_score(X_scaled, kmeans.labels_)\n",
    "print(f\"Calinski-Harabasz Score para K-Means: {calinski_harabasz_kmeans}\")\n",
    "\n",
    "calinski_harabasz_dbscan = calinski_harabasz_score(X_scaled[valid_labels], dbscan_labels[valid_labels])\n",
    "print(f\"Calinski-Harabasz Score para DBSCAN: {calinski_harabasz_dbscan}\")\n"
   ]
  },
  {
   "cell_type": "markdown",
   "metadata": {},
   "source": [
    "O Calinski-Harabasz Score mede a razão entre a dispersão entre clusters e a dispersão intra-cluster. Valores maiores indicam agrupamentos mais compactos e bem separados."
   ]
  },
  {
   "cell_type": "markdown",
   "metadata": {},
   "source": [
    "## Análise dos Resultados\n",
    "* **Silhueta**: Para o K-Means, conseguimos definir o número ótimo de clusters, enquanto para o DBSCAN, o índice é menos efetivo devido à presença de ruídos.\n",
    "* **Davies-Bouldin Score**: Mostra que o DBSCAN pode ter maior separação para clusters densos, enquanto o K-Means é geralmente menor para clusters globulares.\n",
    "* **Calinski-Harabasz Score**: Ajuda a comparar a compactação e separação dos clusters. O valor maior para um dos algoritmos indicará melhor separação e menor sobreposição.\n",
    "\n",
    "Conclusão sobre o Índice de Silhueta e DBSCAN\n",
    "O **índice de silhueta** não é ideal para o **DBSCAN** devido à maneira como o DBSCAN trata pontos como ruídos e cria clusters com formas arbitrárias. O índice de silhueta assume clusters bem definidos e esféricos, o que não se aplica bem ao DBSCAN. Assim, para avaliar o DBSCAN, métricas como o Davies-Bouldin Score ou a análise de densidade são geralmente mais indicadas, pois consideram a distribuição dos dados e não requerem que todos os pontos pertençam a um cluster."
   ]
  },
  {
   "cell_type": "markdown",
   "metadata": {},
   "source": [
    "## Comparação dos Resultados: K-Means vs. DBSCAN\n",
    "* O índice de silhueta mede a coesão e separação dos clusters. Quanto maior o valor, melhor o agrupamento.\n",
    "* Para o K-Means, o índice de silhueta nos ajudou a definir o número ótimo de clusters, que podemos justificar escolhendo o número que maximiza essa métrica.\n",
    "* No caso do DBSCAN, aplicamos o índice de silhueta apenas aos pontos classificados (excluindo o ruído). DBSCAN é menos eficiente para índices de silhueta, já que esta métrica assume que todos os pontos estão associados a um cluster.\n",
    "\n",
    "Podemos observar que:\n",
    "* K-Means cria clusters esféricos, o que pode ser ideal para o índice de silhueta, enquanto DBSCAN é mais adequado para dados com formas arbitrárias.\n",
    "* DBSCAN pode identificar pontos de ruído, o que o diferencia do K-Means."
   ]
  },
  {
   "cell_type": "markdown",
   "metadata": {},
   "source": [
    "# Medidas de similaridade\n",
    "\n",
    "1. Um determinado problema, apresenta 10 séries temporais distintas. Gostaríamos de agrupá-las em 3 grupos, de acordo com um critério de similaridade, baseado no valor máximo de correlação cruzada entre elas. Descreva em tópicos todos os passos necessários.\n",
    "2. Para o problema da questão anterior, indique qual algoritmo de clusterização você usaria. Justifique.\n",
    "3. Indique um caso de uso para essa solução projetada.\n",
    "4. Sugira outra estratégia para medir a similaridade entre séries temporais. Descreva em tópicos os passos necessários."
   ]
  },
  {
   "cell_type": "markdown",
   "metadata": {},
   "source": [
    "### Método do Cotovelo"
   ]
  },
  {
   "cell_type": "markdown",
   "metadata": {},
   "source": [
    "#### K-Média"
   ]
  },
  {
   "cell_type": "code",
   "execution_count": null,
   "metadata": {},
   "outputs": [],
   "source": [
    "# Aplicando o Método do cotovelo (Elbow Method) > K-Média\n",
    "elbow_graph=[]\n",
    "for i in range(1,11):\n",
    "    kmeans_result=KMeans(n_clusters=i, init='k-means++', random_state= 42)\n",
    "    kmeans_result.fit(X_vars)\n",
    "    elbow_graph.append(kmeans_result.inertia_)\n",
    "plt.plot(range(1, 11), elbow_graph)\n",
    "plt.title('Método do cotovelo (Elbow Method) > K-Means')\n",
    "plt.xlabel('Número de Clusters')\n",
    "plt.ylabel('Soma dos quadrados intra-clusters')\n",
    "plt.xticks(range(1, 11))\n",
    "plt.grid()\n",
    "plt.show()"
   ]
  },
  {
   "cell_type": "markdown",
   "metadata": {},
   "source": [
    "#### K-Medoides"
   ]
  },
  {
   "cell_type": "code",
   "execution_count": null,
   "metadata": {},
   "outputs": [],
   "source": [
    "# Aplicando o Método do cotovelo (Elbow Method) > K-Medoide\n",
    "elbow_graph=[]\n",
    "for i in range(1,11):\n",
    "    kMedoids_result=KMedoids(n_clusters=i, init='k-medoids++', random_state= 42)\n",
    "    kMedoids_result.fit_predict(X_vars)\n",
    "    elbow_graph.append(kMedoids_result.inertia_)\n",
    "plt.plot(range(1, 11), elbow_graph)\n",
    "plt.title('Método do cotovelo (Elbow Method) > K-Medoides')\n",
    "plt.xlabel('Número de Clusters')\n",
    "plt.ylabel('Soma dos quadrados intra-clusters')\n",
    "plt.xticks(range(1, 11))\n",
    "plt.grid()\n",
    "plt.show()"
   ]
  },
  {
   "cell_type": "markdown",
   "metadata": {},
   "source": [
    "# Parte 3 Clusterização\n",
    "\n",
    "Para os dados pré-processados da etapa anterior você irá:\n",
    "\n",
    "1. Realizar o agrupamento dos países em 3 grupos distintos. Para tal, use:\n",
    "   * K-Médias"
   ]
  },
  {
   "cell_type": "code",
   "execution_count": null,
   "metadata": {},
   "outputs": [],
   "source": [
    "# K-Médias\n",
    "kmeans_result = KMeans(n_clusters=3, random_state=42)\n",
    "y_vars = kmeans_result.fit_predict(df_scaled)\n",
    "X_vars_kmeans = X_vars.copy()\n",
    "X_vars_kmeans['Cluster_KMeans'] = kmeans_result.labels_"
   ]
  },
  {
   "cell_type": "code",
   "execution_count": null,
   "metadata": {},
   "outputs": [],
   "source": [
    "# Analisando a distribuição dos clusters (K-Médias)\n",
    "cluster_counts = X_vars_kmeans['Cluster_KMeans'].value_counts()\n",
    "print(\"Distribuição dos clusters (K-Médias):\")\n",
    "print(cluster_counts)"
   ]
  },
  {
   "cell_type": "code",
   "execution_count": null,
   "metadata": {},
   "outputs": [],
   "source": [
    "# Analisando a distribuição das dimensões em cada grupo (K-Médias)\n",
    "cluster_means = X_vars_kmeans.groupby('Cluster_KMeans').mean()\n",
    "print(\"Distribuição das dimensões em cada grupo (K-Médias):\")\n",
    "print(cluster_means)"
   ]
  },
  {
   "cell_type": "markdown",
   "metadata": {},
   "source": [
    "   * Clusterização Hierárquica"
   ]
  },
  {
   "cell_type": "code",
   "execution_count": null,
   "metadata": {},
   "outputs": [],
   "source": [
    "# Clusterização Hierárquica através da função scipy.cluster.hierarchy.linkage do SciPy\n",
    "linked = linkage(df_scaled, method='ward')"
   ]
  },
  {
   "cell_type": "markdown",
   "metadata": {},
   "source": [
    "2. Para os resultados, do K-Médias:\n",
    "    * Interprete cada um dos clusters obtidos citando:\n",
    "        * Qual a distribuição das dimensões em cada grupo"
   ]
  },
  {
   "cell_type": "code",
   "execution_count": null,
   "metadata": {},
   "outputs": [],
   "source": [
    "# Analisando a distribuição das dimensões em cada grupo (K-Médias)\n",
    "cluster_means = X_vars_kmeans.groupby('Cluster_KMeans').mean()\n",
    "print(\"Distribuição das dimensões em cada grupo (K-Médias):\")\n",
    "print(cluster_means)"
   ]
  },
  {
   "cell_type": "markdown",
   "metadata": {},
   "source": [
    "* O país, de acordo com o algoritmo, melhor representa o seu agrupamento. Justifique\n",
    "   > ```\n",
    "   > Cluster 0 é melhor representado por: Suriname\n",
    "   > Cluster 1 é melhor representado por: Iceland\n",
    "   > Cluster 2 é melhor representado por: Guinea\n",
    "   > ```\n",
    "   > _________\n",
    "   > O país que melhor representa o seu agrupamento é aquela mais próximo do centroid, praticamente os demais ficam agrupados em torno dele."
   ]
  },
  {
   "cell_type": "code",
   "execution_count": null,
   "metadata": {},
   "outputs": [],
   "source": [
    "# Exibir os países que representam cada cluster (K-Médias)\n",
    "def calcular_pais_representativo(cluster_num, df, df_scaled, kmeans):\n",
    "    # Gera um índice do cluster n\n",
    "    cluster_indices = df[X_vars_kmeans['Cluster_KMeans'] == cluster_num].index\n",
    "    # Resupera o elementro central de cada cluster, procurando o mais próximo através da distãncia do centro\n",
    "    cluster_center = kmeans_result.cluster_centers_[cluster_num]\n",
    "    distancias = np.linalg.norm(df_scaled[cluster_indices] - cluster_center, axis=1)\n",
    "    pais_representativo_idx = cluster_indices[np.argmin(distancias)]\n",
    "    return df.loc[pais_representativo_idx, 'country']\n",
    "\n",
    "for cluster_num in range(3):\n",
    "    pais_representativo = calcular_pais_representativo(cluster_num, df, df_scaled, kmeans_result)\n",
    "    print(f\"Cluster {cluster_num} é melhor representado por: {pais_representativo}\")"
   ]
  },
  {
   "cell_type": "markdown",
   "metadata": {},
   "source": [
    "3. Para os resultados da Clusterização Hierárquica, apresente o dendograma e interprete os resultados"
   ]
  },
  {
   "cell_type": "code",
   "execution_count": null,
   "metadata": {},
   "outputs": [],
   "source": [
    "# Dendograma\n",
    "plt.figure(figsize=(45, 14))\n",
    "plt.rcParams.update({'font.size': 30})\n",
    "dendrogram(linked, labels=df['country'].values, leaf_rotation=90, leaf_font_size=14)\n",
    "plt.title('Dendograma da Clusterização Hierárquica', fontsize=30)\n",
    "plt.xlabel('Países', fontsize=30)\n",
    "plt.ylabel('Distância Euclidiana', fontsize=30)\n",
    "plt.show()"
   ]
  },
  {
   "cell_type": "markdown",
   "metadata": {},
   "source": [
    "4. Compare os dois resultados, aponte as semelhanças e diferenças e interprete.\n",
    "   > Percebi que na clusterização hierárquica, usando o dendrograma, consigo uma relação visual da hierárquia entre os países. O que não foi possível no cado no K-Média, já que o problema tem mais que 2 dimensões (eu até exibi ao final deste trabalho duas delas, mas é uma visão pobre de um problema muito maior.\n",
    "   > \n",
    "   > Percebi que usando K-Médias eu tive que escolher a quantidade de grupos (clusters), apesar de existirem técnicas para ser mais acertivo nesta escolha. Outro ponto importante é que o K-Média, por se tratar de médias, é sensível a outliers (valores atípicos ou errados que causem desvios no cácula da média).\n",
    "   >\n",
    "   > Já na hierárquica, não é nessário escolher a quantidade de grupos e ela é menos sesível a outliers. Apesar de permitir a visualização, isso só é possível com poucos dados.\n",
    "   >\n",
    "   > Baseado nisso, acredito que o uso de K-Média é mais indicado quando sabemos a quantidade de grupos ou ele pode ser estimado. Por entregar uma matriz com os dados, é mais poderosa para análises mais complexas."
   ]
  },
  {
   "cell_type": "markdown",
   "metadata": {},
   "source": [
    "# Parte 4 Escolha de algoritmos\n",
    "1. Escreva em tópicos as etapas do algoritmo de K-médias até sua convergência.\n",
    "> * Inicialização dos centróides.\n",
    "> * Atribuição de cada ponto ao centróide mais próximo.\n",
    "> * Recalcular a posição dos centróides.\n",
    "> * Repetir até a convergência (quando a mudança dos centróides entre iterações for nula ou mínima, dentro de um parâmetro previamente estabelecido).\n",
    "\n",
    "2. O algoritmo de K-médias converge até encontrar os centróides que melhor descrevem os clusters encontrados (até o deslocamento entre as interações dos centróides ser mínimo). Lembrando que o centróide é o baricentro do cluster em questão e não representa, em via de regra, um dado existente na base. Refaça o algoritmo apresentado na questão 1 a fim de garantir que o cluster seja representado pelo dado mais próximo ao seu baricentro em todas as iterações do algoritmo.\n",
    "Obs: nesse novo algoritmo, o dado escolhido será chamado medóide."
   ]
  },
  {
   "cell_type": "code",
   "execution_count": null,
   "metadata": {},
   "outputs": [],
   "source": [
    "# Medóide\n",
    "kmedoids = KMedoids(n_clusters=3, random_state=42)\n",
    "y_vars_m = kmedoids.fit_predict(df_scaled)\n",
    "X_vars['Cluster_Medoid'] = kmedoids.labels_"
   ]
  },
  {
   "cell_type": "code",
   "execution_count": null,
   "metadata": {},
   "outputs": [],
   "source": [
    "# Analisando a distribuição dos clusters (K-Medoides)\n",
    "cluster_counts = X_vars['Cluster_Medoid'].value_counts()\n",
    "print(\"Distribuição dos clusters (K-Medóide):\")\n",
    "print(cluster_counts)"
   ]
  },
  {
   "cell_type": "code",
   "execution_count": null,
   "metadata": {},
   "outputs": [],
   "source": [
    "# Analisando a distribuição das dimensões em cada grupo (K-Medoides)\n",
    "cluster_means = X_vars.groupby('Cluster_Medoid').mean()\n",
    "print(\"Distribuição das dimensões em cada grupo (K-Medóide):\")\n",
    "print(cluster_means)"
   ]
  },
  {
   "cell_type": "markdown",
   "metadata": {},
   "source": [
    "3. O algoritmo de K-médias é sensível a outliers nos dados. Explique.\n",
    "> O K-Médias é sensível a outliers porque os centróides são afetados por valores extremos, o que pode distorcer a posição dos clusters, já que utiliza médias\n",
    "\n",
    "4. Por que o algoritmo de DBScan é mais robusto à presença de outliers?\n",
    "> O algoritmo DBScan é mais robusto porque é baseado em densidade. Desta forma, pontos que não pertencem a regiões densas são automaticamente classificados como ruídos, ficando gora dos grupos. Por esse motivo é um ótimo algorítimo a ser usado quando outliers não são tão claros ou difíceis de serem removidos."
   ]
  },
  {
   "cell_type": "markdown",
   "metadata": {},
   "source": [
    "# Gráficos extras\n",
    "## K-Médias"
   ]
  },
  {
   "cell_type": "code",
   "execution_count": null,
   "metadata": {},
   "outputs": [],
   "source": [
    "# Visualizando o resultado do K-Média\n",
    "X = df_scaled\n",
    "plt.scatter(X[y_vars == 0, 0], X[y_vars == 0, 4], s = 100, c = 'blue', label = 'Cluster 1')\n",
    "plt.scatter(X[y_vars == 1, 0], X[y_vars == 1, 4], s = 100, c = 'green', label = 'Cluster 2')\n",
    "plt.scatter(X[y_vars == 2, 0], X[y_vars == 2, 4], s = 100, c = 'red', label = 'Cluster 3')\n",
    "plt.scatter(kmeans_result.cluster_centers_[:, 0], kmeans_result.cluster_centers_[:, 2], s = 300, c = 'black', label = 'Centroid') # modificado\n",
    "plt.rcParams.update({'font.size': 12})\n",
    "plt.title('K-Média - Clusters (base normalizada)')\n",
    "plt.xlabel('Motalidade infantil')\n",
    "plt.ylabel('Renda anual')\n",
    "plt.legend()\n",
    "plt.show()"
   ]
  },
  {
   "cell_type": "markdown",
   "metadata": {},
   "source": [
    "## K-Medoides"
   ]
  },
  {
   "cell_type": "code",
   "execution_count": null,
   "metadata": {},
   "outputs": [],
   "source": [
    "# Visualizando o resultado\n",
    "X = df_scaled\n",
    "plt.scatter(X[y_vars_m == 0, 0], X[y_vars_m == 0, 4], s = 100, c = 'green', label = 'Cluster 1')\n",
    "plt.scatter(X[y_vars_m == 1, 0], X[y_vars_m == 1, 4], s = 100, c = 'red', label = 'Cluster 2')\n",
    "plt.scatter(X[y_vars_m == 2, 0], X[y_vars_m == 2, 4], s = 100, c = 'blue', label = 'Cluster 3')\n",
    "plt.scatter(kmedoids.cluster_centers_[:, 0], kmedoids.cluster_centers_[:, 2], s = 300, c = 'black', label = 'Medoide') # modificado\n",
    "plt.rcParams.update({'font.size': 12})\n",
    "plt.title('K-Medoide - Clusters (base normalizada)')\n",
    "plt.xlabel('Motalidade infantil')\n",
    "plt.ylabel('Renda anual')\n",
    "plt.legend()\n",
    "plt.show()"
   ]
  },
  {
   "cell_type": "markdown",
   "metadata": {},
   "source": [
    "# DbScan"
   ]
  },
  {
   "cell_type": "code",
   "execution_count": null,
   "metadata": {},
   "outputs": [],
   "source": [
    "import pandas as pd\n",
    "import numpy as np\n",
    "from sklearn.cluster import DBSCAN\n",
    "import matplotlib.pyplot as plt\n",
    "\n",
    "# Substitua 'seu_dataset.csv' pelo caminho do seu arquivo\n",
    "data = df.copy()\n",
    "\n",
    "# Selecionar as features numéricas\n",
    "features = ['child_mort', 'exports', 'health', 'imports', 'income', 'inflation', 'life_expec', 'total_fer', 'gdpp']\n",
    "X = data[features]\n",
    "\n",
    "# Adicionar a coluna de clusters ao DataFrame original\n",
    "data['cluster'] = clusters\n",
    "\n",
    "# Definir os parâmetros do DBSCAN (eps e min_samples)\n",
    "# A escolha desses parâmetros é crucial e pode exigir ajuste fino\n",
    "dbscan = DBSCAN(eps=3, min_samples=5)\n",
    "clusters = dbscan.fit_predict(X_scaled)\n",
    "\n",
    "# Visualizar os clusters em um gráfico de dispersão\n",
    "plt.scatter(data['child_mort'], data['income'], c=data['cluster'], cmap='viridis')\n",
    "plt.xlabel('Mortalidade Infantil')\n",
    "plt.ylabel('Renda')\n",
    "plt.title('Clusterização DBSCAN')\n",
    "plt.show()"
   ]
  },
  {
   "cell_type": "markdown",
   "metadata": {},
   "source": [
    "# Por: `Eder Martins`"
   ]
  },
  {
   "cell_type": "markdown",
   "metadata": {},
   "source": [
    "## Obrigado!"
   ]
  }
 ],
 "metadata": {
  "colab": {
   "provenance": []
  },
  "kernelspec": {
   "display_name": "Python 3 (ipykernel)",
   "language": "python",
   "name": "python3"
  },
  "language_info": {
   "codemirror_mode": {
    "name": "ipython",
    "version": 3
   },
   "file_extension": ".py",
   "mimetype": "text/x-python",
   "name": "python",
   "nbconvert_exporter": "python",
   "pygments_lexer": "ipython3",
   "version": "3.11.10"
  }
 },
 "nbformat": 4,
 "nbformat_minor": 4
}
